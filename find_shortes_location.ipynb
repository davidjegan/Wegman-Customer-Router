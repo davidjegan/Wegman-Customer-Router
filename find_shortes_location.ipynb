{
 "cells": [
  {
   "cell_type": "code",
   "execution_count": null,
   "metadata": {},
   "outputs": [],
   "source": [
    "!pip install --upgrade google-cloud-storage\n",
    "!pip install --upgrade pip\n",
    "!pip install google.cloud.vision"
   ]
  },
  {
   "cell_type": "code",
   "execution_count": 0,
   "metadata": {
    "colab": {
     "base_uri": "https://localhost:8080/",
     "height": 748
    },
    "colab_type": "code",
    "id": "8dLONpREj4ww",
    "outputId": "605b20fd-cd24-451e-fff6-13fddbe78b92"
   },
   "outputs": [
    {
     "name": "stdout",
     "output_type": "stream",
     "text": [
      "Requirement already up-to-date: google-cloud-storage in /usr/local/lib/python3.6/dist-packages (1.14.0)\n",
      "Requirement already satisfied, skipping upgrade: google-api-core<2.0.0dev,>=1.6.0 in /usr/local/lib/python3.6/dist-packages (from google-cloud-storage) (1.7.0)\n",
      "Requirement already satisfied, skipping upgrade: google-resumable-media>=0.3.1 in /usr/local/lib/python3.6/dist-packages (from google-cloud-storage) (0.3.2)\n",
      "Requirement already satisfied, skipping upgrade: google-cloud-core<0.30dev,>=0.29.0 in /usr/local/lib/python3.6/dist-packages (from google-cloud-storage) (0.29.1)\n",
      "Requirement already satisfied, skipping upgrade: requests<3.0.0dev,>=2.18.0 in /usr/local/lib/python3.6/dist-packages (from google-api-core<2.0.0dev,>=1.6.0->google-cloud-storage) (2.18.4)\n",
      "Requirement already satisfied, skipping upgrade: pytz in /usr/local/lib/python3.6/dist-packages (from google-api-core<2.0.0dev,>=1.6.0->google-cloud-storage) (2018.9)\n",
      "Requirement already satisfied, skipping upgrade: six>=1.10.0 in /usr/local/lib/python3.6/dist-packages (from google-api-core<2.0.0dev,>=1.6.0->google-cloud-storage) (1.11.0)\n",
      "Requirement already satisfied, skipping upgrade: googleapis-common-protos!=1.5.4,<2.0dev,>=1.5.3 in /usr/local/lib/python3.6/dist-packages (from google-api-core<2.0.0dev,>=1.6.0->google-cloud-storage) (1.5.8)\n",
      "Requirement already satisfied, skipping upgrade: google-auth<2.0dev,>=0.4.0 in /usr/local/lib/python3.6/dist-packages (from google-api-core<2.0.0dev,>=1.6.0->google-cloud-storage) (1.4.2)\n",
      "Requirement already satisfied, skipping upgrade: setuptools>=34.0.0 in /usr/local/lib/python3.6/dist-packages (from google-api-core<2.0.0dev,>=1.6.0->google-cloud-storage) (40.8.0)\n",
      "Requirement already satisfied, skipping upgrade: protobuf>=3.4.0 in /usr/local/lib/python3.6/dist-packages (from google-api-core<2.0.0dev,>=1.6.0->google-cloud-storage) (3.6.1)\n",
      "Requirement already satisfied, skipping upgrade: certifi>=2017.4.17 in /usr/local/lib/python3.6/dist-packages (from requests<3.0.0dev,>=2.18.0->google-api-core<2.0.0dev,>=1.6.0->google-cloud-storage) (2018.11.29)\n",
      "Requirement already satisfied, skipping upgrade: idna<2.7,>=2.5 in /usr/local/lib/python3.6/dist-packages (from requests<3.0.0dev,>=2.18.0->google-api-core<2.0.0dev,>=1.6.0->google-cloud-storage) (2.6)\n",
      "Requirement already satisfied, skipping upgrade: urllib3<1.23,>=1.21.1 in /usr/local/lib/python3.6/dist-packages (from requests<3.0.0dev,>=2.18.0->google-api-core<2.0.0dev,>=1.6.0->google-cloud-storage) (1.22)\n",
      "Requirement already satisfied, skipping upgrade: chardet<3.1.0,>=3.0.2 in /usr/local/lib/python3.6/dist-packages (from requests<3.0.0dev,>=2.18.0->google-api-core<2.0.0dev,>=1.6.0->google-cloud-storage) (3.0.4)\n",
      "Requirement already satisfied, skipping upgrade: pyasn1-modules>=0.2.1 in /usr/local/lib/python3.6/dist-packages (from google-auth<2.0dev,>=0.4.0->google-api-core<2.0.0dev,>=1.6.0->google-cloud-storage) (0.2.4)\n",
      "Requirement already satisfied, skipping upgrade: rsa>=3.1.4 in /usr/local/lib/python3.6/dist-packages (from google-auth<2.0dev,>=0.4.0->google-api-core<2.0.0dev,>=1.6.0->google-cloud-storage) (4.0)\n",
      "Requirement already satisfied, skipping upgrade: cachetools>=2.0.0 in /usr/local/lib/python3.6/dist-packages (from google-auth<2.0dev,>=0.4.0->google-api-core<2.0.0dev,>=1.6.0->google-cloud-storage) (3.1.0)\n",
      "Requirement already satisfied, skipping upgrade: pyasn1<0.5.0,>=0.4.1 in /usr/local/lib/python3.6/dist-packages (from pyasn1-modules>=0.2.1->google-auth<2.0dev,>=0.4.0->google-api-core<2.0.0dev,>=1.6.0->google-cloud-storage) (0.4.5)\n",
      "Requirement already up-to-date: pip in /usr/local/lib/python3.6/dist-packages (19.0.2)\n",
      "Collecting google.cloud.vision\n",
      "  Using cached https://files.pythonhosted.org/packages/1c/61/b545aaee28d81e410e91d75e236a53f342bbb49fd4538332afa1661ef0ae/google_cloud_vision-0.35.2-py2.py3-none-any.whl\n",
      "Requirement already satisfied: google-api-core[grpc]<2.0.0dev,>=1.6.0 in /usr/local/lib/python3.6/dist-packages (from google.cloud.vision) (1.7.0)\n",
      "Requirement already satisfied: protobuf>=3.4.0 in /usr/local/lib/python3.6/dist-packages (from google-api-core[grpc]<2.0.0dev,>=1.6.0->google.cloud.vision) (3.6.1)\n",
      "Requirement already satisfied: requests<3.0.0dev,>=2.18.0 in /usr/local/lib/python3.6/dist-packages (from google-api-core[grpc]<2.0.0dev,>=1.6.0->google.cloud.vision) (2.18.4)\n",
      "Requirement already satisfied: google-auth<2.0dev,>=0.4.0 in /usr/local/lib/python3.6/dist-packages (from google-api-core[grpc]<2.0.0dev,>=1.6.0->google.cloud.vision) (1.4.2)\n",
      "Requirement already satisfied: pytz in /usr/local/lib/python3.6/dist-packages (from google-api-core[grpc]<2.0.0dev,>=1.6.0->google.cloud.vision) (2018.9)\n",
      "Requirement already satisfied: googleapis-common-protos!=1.5.4,<2.0dev,>=1.5.3 in /usr/local/lib/python3.6/dist-packages (from google-api-core[grpc]<2.0.0dev,>=1.6.0->google.cloud.vision) (1.5.8)\n",
      "Requirement already satisfied: six>=1.10.0 in /usr/local/lib/python3.6/dist-packages (from google-api-core[grpc]<2.0.0dev,>=1.6.0->google.cloud.vision) (1.11.0)\n",
      "Requirement already satisfied: setuptools>=34.0.0 in /usr/local/lib/python3.6/dist-packages (from google-api-core[grpc]<2.0.0dev,>=1.6.0->google.cloud.vision) (40.8.0)\n",
      "Requirement already satisfied: grpcio>=1.8.2; extra == \"grpc\" in /usr/local/lib/python3.6/dist-packages (from google-api-core[grpc]<2.0.0dev,>=1.6.0->google.cloud.vision) (1.15.0)\n",
      "Requirement already satisfied: urllib3<1.23,>=1.21.1 in /usr/local/lib/python3.6/dist-packages (from requests<3.0.0dev,>=2.18.0->google-api-core[grpc]<2.0.0dev,>=1.6.0->google.cloud.vision) (1.22)\n",
      "Requirement already satisfied: certifi>=2017.4.17 in /usr/local/lib/python3.6/dist-packages (from requests<3.0.0dev,>=2.18.0->google-api-core[grpc]<2.0.0dev,>=1.6.0->google.cloud.vision) (2018.11.29)\n",
      "Requirement already satisfied: idna<2.7,>=2.5 in /usr/local/lib/python3.6/dist-packages (from requests<3.0.0dev,>=2.18.0->google-api-core[grpc]<2.0.0dev,>=1.6.0->google.cloud.vision) (2.6)\n",
      "Requirement already satisfied: chardet<3.1.0,>=3.0.2 in /usr/local/lib/python3.6/dist-packages (from requests<3.0.0dev,>=2.18.0->google-api-core[grpc]<2.0.0dev,>=1.6.0->google.cloud.vision) (3.0.4)\n",
      "Requirement already satisfied: pyasn1-modules>=0.2.1 in /usr/local/lib/python3.6/dist-packages (from google-auth<2.0dev,>=0.4.0->google-api-core[grpc]<2.0.0dev,>=1.6.0->google.cloud.vision) (0.2.4)\n",
      "Requirement already satisfied: cachetools>=2.0.0 in /usr/local/lib/python3.6/dist-packages (from google-auth<2.0dev,>=0.4.0->google-api-core[grpc]<2.0.0dev,>=1.6.0->google.cloud.vision) (3.1.0)\n",
      "Requirement already satisfied: rsa>=3.1.4 in /usr/local/lib/python3.6/dist-packages (from google-auth<2.0dev,>=0.4.0->google-api-core[grpc]<2.0.0dev,>=1.6.0->google.cloud.vision) (4.0)\n",
      "Requirement already satisfied: pyasn1<0.5.0,>=0.4.1 in /usr/local/lib/python3.6/dist-packages (from pyasn1-modules>=0.2.1->google-auth<2.0dev,>=0.4.0->google-api-core[grpc]<2.0.0dev,>=1.6.0->google.cloud.vision) (0.4.5)\n",
      "Installing collected packages: google.cloud.vision\n",
      "Successfully installed google.cloud.vision\n"
     ]
    }
   ],
   "source": [
    "import json\n",
    "import requests\n",
    "import plotly.plotly as py\n",
    "import pandas as pd\n",
    "import io\n",
    "import os\n",
    "os.environ[\"GOOGLE_APPLICATION_CREDENTIALS\"] = \"credential.json\"\n",
    "# Imports the Google Cloud client library\n",
    "from google.cloud import storage\n"
   ]
  },
  {
   "cell_type": "markdown",
   "metadata": {
    "colab_type": "text",
    "id": "uoiJaNqRPRBP"
   },
   "source": [
    "Getting image name from the User. This image would be uploaded by the user, and would be used to extract the details/features from the image.\n"
   ]
  },
  {
   "cell_type": "code",
   "execution_count": 0,
   "metadata": {
    "colab": {},
    "colab_type": "code",
    "id": "xyGnTLczP_HL"
   },
   "outputs": [],
   "source": [
    "dish_name=\"cauli.jpg\""
   ]
  },
  {
   "cell_type": "markdown",
   "metadata": {
    "colab_type": "text",
    "id": "a_D-41stpusI"
   },
   "source": [
    "Upload the content to the Google Cloud. Google Cloud vision is used to convert the image into features. "
   ]
  },
  {
   "cell_type": "code",
   "execution_count": 0,
   "metadata": {
    "colab": {
     "base_uri": "https://localhost:8080/",
     "height": 35
    },
    "colab_type": "code",
    "id": "gDDwK6ZOPamk",
    "outputId": "eeae6380-6755-481a-d826-7540903e5104"
   },
   "outputs": [
    {
     "name": "stdout",
     "output_type": "stream",
     "text": [
      "File /content/cauli.jpg uploaded to blob1.\n"
     ]
    }
   ],
   "source": [
    "\n",
    "# Instantiates a client\n",
    "storage_client = storage.Client()\n",
    "\n",
    "def upload_blob(bucket_name, source_file_name, destination_blob_name):\n",
    "    \"\"\"Uploads a file to the bucket.\"\"\"\n",
    "    storage_client = storage.Client()\n",
    "    bucket = storage_client.get_bucket(bucket_name)\n",
    "    blob = bucket.blob(destination_blob_name)\n",
    "\n",
    "    blob.upload_from_filename(source_file_name)\n",
    "\n",
    "    print('File {} uploaded to {}.'.format(\n",
    "        source_file_name,\n",
    "        destination_blob_name))\n",
    "    \n",
    "upload_blob(\"bucketname\",os.path.abspath(dish_name),\"blob1\")"
   ]
  },
  {
   "cell_type": "code",
   "execution_count": 0,
   "metadata": {
    "colab": {
     "base_uri": "https://localhost:8080/",
     "height": 364
    },
    "colab_type": "code",
    "id": "TGK48TTGQVti",
    "outputId": "87833eab-cfd8-4667-e19a-80a80961335e"
   },
   "outputs": [
    {
     "name": "stdout",
     "output_type": "stream",
     "text": [
      "Labels:\n",
      "Food\n",
      "Dish\n",
      "Ingredient\n",
      "Cuisine\n",
      "Produce\n",
      "Chicken meat\n",
      "Recipe\n",
      "Comfort food\n",
      "Leaf vegetable\n",
      "Labels:\n",
      "Food\n",
      "Dish\n",
      "Ingredient\n",
      "Cuisine\n",
      "Produce\n",
      "Chicken meat\n",
      "Recipe\n",
      "Comfort food\n",
      "Leaf vegetable\n"
     ]
    }
   ],
   "source": [
    "# Imports the Google Cloud client library\n",
    "from google.cloud import vision\n",
    "from google.cloud.vision import types\n",
    "\n",
    "# Instantiates a client\n",
    "client = vision.ImageAnnotatorClient()\n",
    "\n",
    "# The name of the image file to annotate\n",
    "file_name = os.path.abspath(dish_name)\n",
    "\n",
    "# Loads the image into memory\n",
    "with io.open(file_name, 'rb') as image_file:\n",
    "    content = image_file.read()\n",
    "\n",
    "image = types.Image(content=content)\n",
    "\n",
    "# Performs label detection on the image file\n",
    "response = client.label_detection(image=image)\n",
    "labels = response.label_annotations\n",
    "\n",
    "print('Labels:')\n",
    "for label in labels:\n",
    "    print(label.description)\n",
    "  \n",
    "buck = storage_client.get_bucket(\"bucketname\")\n",
    "blob_content=buck.blob('blob1')\n",
    "blob_content.download_to_filename('temp.jpg')\n",
    "\n",
    "# The name of the image file to annotate\n",
    "file_name = os.path.abspath('temp.jpg')\n",
    "\n",
    "# Loads the image into memory\n",
    "with io.open(file_name, 'rb') as image_file:\n",
    "    content = image_file.read()\n",
    "\n",
    "image = types.Image(content=content)\n",
    "\n",
    "# Performs label detection on the image file\n",
    "response = client.label_detection(image=image)\n",
    "labels = response.label_annotations\n",
    "\n",
    "print('Labels:')\n",
    "for label in labels:\n",
    "    print(label.description)"
   ]
  },
  {
   "cell_type": "markdown",
   "metadata": {
    "colab_type": "text",
    "id": "jOjTKcD4qUxZ"
   },
   "source": [
    "Find the closest dish in Wegmans inventory."
   ]
  },
  {
   "cell_type": "code",
   "execution_count": 0,
   "metadata": {
    "colab": {
     "base_uri": "https://localhost:8080/",
     "height": 35
    },
    "colab_type": "code",
    "id": "Qa-LsfMG2AxO",
    "outputId": "8bb21085-edbc-48c6-c4d5-56a4a804064e"
   },
   "outputs": [
    {
     "name": "stdout",
     "output_type": "stream",
     "text": [
      "200\n"
     ]
    }
   ],
   "source": [
    "\n",
    "from difflib import get_close_matches \n",
    "  \n",
    "def closeMatches(patterns, word): \n",
    "     return (get_close_matches(word, patterns))   \n",
    "  \n",
    "  \n",
    "#change response but keep key and api\n",
    "response = requests.get(\"https://api.wegmans.io/meals/recipes?api-version=2018-10-18&Subscription-Key=\")\n",
    "\n",
    "print(response.status_code)\n",
    "\n",
    "d = json.loads(response.text)\n",
    "all_recipes = []\n",
    "\n",
    "\n",
    "#change recipes to corresponding\n",
    "for x in d['recipes']:\n",
    "    all_recipes.append((x))\n",
    "\n",
    "list_of_recipes = []\n",
    "links_of_list_of_recipes = []\n",
    "id_of_list_of_recipes = []\n",
    "\n",
    "for i in range(len(all_recipes)):\n",
    "  links_of_list_of_recipes.append(all_recipes[i]['_links'])\n",
    "  id_of_list_of_recipes.append(all_recipes[i]['id'])\n",
    "  list_of_recipes.append(all_recipes[i]['name'])\n",
    "\n",
    "  \n",
    "href_of_all_meals = []\n",
    "for i in range(len(links_of_list_of_recipes)):\n",
    "  href_of_all_meals.append(links_of_list_of_recipes[i][0]['href'])\n",
    "  \n",
    "  \n"
   ]
  },
  {
   "cell_type": "code",
   "execution_count": 0,
   "metadata": {
    "colab": {},
    "colab_type": "code",
    "id": "qPfbMc-52Rfi"
   },
   "outputs": [],
   "source": [
    "\n",
    "search_query=labels[5].description\n",
    "\n",
    "\n",
    "\n"
   ]
  },
  {
   "cell_type": "code",
   "execution_count": 0,
   "metadata": {
    "colab": {
     "base_uri": "https://localhost:8080/",
     "height": 35
    },
    "colab_type": "code",
    "id": "ZJ-4h-oY2UAw",
    "outputId": "a0e3a2eb-9520-42de-f815-a564496920b3"
   },
   "outputs": [
    {
     "name": "stdout",
     "output_type": "stream",
     "text": [
      "200\n"
     ]
    }
   ],
   "source": [
    "\n",
    "result = closeMatches(list_of_recipes , search_query) \n",
    "\n",
    "if(result):\n",
    "  val = list_of_recipes.index(result[0])\n",
    "\n",
    "search_item = 'https://api.wegmans.io/' + href_of_all_meals[val] + '&Subscription-Key='\n",
    "\n",
    "response = requests.get(search_item)\n",
    "print(response.status_code)\n",
    "d = json.loads(response.text)\n"
   ]
  },
  {
   "cell_type": "code",
   "execution_count": 0,
   "metadata": {
    "colab": {},
    "colab_type": "code",
    "id": "tbcSNSV-ord5"
   },
   "outputs": [],
   "source": [
    "#Extract the contents from the API for every dish,and the dish from the image\n",
    "\n",
    "# Make sure to add single quotes when entering your information to define them as strings\n",
    "apikey = ''\n"
   ]
  },
  {
   "cell_type": "code",
   "execution_count": 0,
   "metadata": {
    "colab": {},
    "colab_type": "code",
    "id": "JB9_41Qvo6rY"
   },
   "outputs": [],
   "source": [
    "# Print all information related to the Dish\n",
    "id=str(d['id'])\n",
    "url='https://api.wegmans.io/meals/recipes/'+id+'/?api-version=2018-10-18&subscription-key='+apikey\n",
    "response = requests.get(url)\n",
    "newid = json.loads(response.content)"
   ]
  },
  {
   "cell_type": "code",
   "execution_count": 0,
   "metadata": {
    "colab": {
     "base_uri": "https://localhost:8080/",
     "height": 2496
    },
    "colab_type": "code",
    "id": "of71M6QtqLP7",
    "outputId": "46ffae6c-ee66-4ada-f88b-b133c18b3c38"
   },
   "outputs": [
    {
     "name": "stdout",
     "output_type": "stream",
     "text": [
      "Name of the Dish: Chicken Parmesan\n",
      "Wellness Ingredients: ['High Calcium']\n",
      "Total ingredients required is 9\n",
      "Names of all the Ingredients\n",
      "Food You Feel Good About Seasoned Bread Crumbs\n",
      "   dailyValuePercent dailyValueReference  \\\n",
      "0               0.00                None   \n",
      "1               0.04                None   \n",
      "2               0.00                None   \n",
      "3               0.00                None   \n",
      "4               0.21                None   \n",
      "5               0.07                None   \n",
      "6               0.02                None   \n",
      "\n",
      "                           itemQuantity precision quantity                type  \n",
      "0  {'value': 10, 'unitOfMeasure': 'OZ'}      None     0 mg         Cholesterol  \n",
      "1  {'value': 10, 'unitOfMeasure': 'OZ'}      None      1 g       Dietary Fiber  \n",
      "2  {'value': 10, 'unitOfMeasure': 'OZ'}      None     30 g   MetricServingSize  \n",
      "3  {'value': 10, 'unitOfMeasure': 'OZ'}      None      0 g       Saturated Fat  \n",
      "4  {'value': 10, 'unitOfMeasure': 'OZ'}      None   500 mg              Sodium  \n",
      "5  {'value': 10, 'unitOfMeasure': 'OZ'}      None     20 g  Total Carbohydrate  \n",
      "6  {'value': 10, 'unitOfMeasure': 'OZ'}      None      1 g           Total Fat  \n",
      "Price: 1.49\n",
      "Italian Classics Grated Parmigiano Reggiano (Cheese Shop), divided\n",
      "   dailyValuePercent dailyValueReference                         itemQuantity  \\\n",
      "0               0.01                None  {'value': 1, 'unitOfMeasure': 'LB'}   \n",
      "1               0.00                None  {'value': 1, 'unitOfMeasure': 'LB'}   \n",
      "2               0.05                None  {'value': 1, 'unitOfMeasure': 'LB'}   \n",
      "3               0.01                None  {'value': 1, 'unitOfMeasure': 'LB'}   \n",
      "4               0.00                None  {'value': 1, 'unitOfMeasure': 'LB'}   \n",
      "5               0.02                None  {'value': 1, 'unitOfMeasure': 'LB'}   \n",
      "\n",
      "  precision quantity                type  \n",
      "0      None     5 mg         Cholesterol  \n",
      "1      None      0 g       Dietary Fiber  \n",
      "2      None      1 g       Saturated Fat  \n",
      "3      None    30 mg              Sodium  \n",
      "4      None      0 g  Total Carbohydrate  \n",
      "5      None      1 g           Total Fat  \n",
      "Price: 19.99\n",
      "Food You Feel Good About All Purpose Flour\n",
      "   dailyValuePercent dailyValueReference                         itemQuantity  \\\n",
      "0               0.00                None  {'value': 5, 'unitOfMeasure': 'LB'}   \n",
      "1               0.00                None  {'value': 5, 'unitOfMeasure': 'LB'}   \n",
      "2               0.00                None  {'value': 5, 'unitOfMeasure': 'LB'}   \n",
      "3               0.08                None  {'value': 5, 'unitOfMeasure': 'LB'}   \n",
      "4               0.00                None  {'value': 5, 'unitOfMeasure': 'LB'}   \n",
      "\n",
      "  precision quantity                type  \n",
      "0      None     0 mg         Cholesterol  \n",
      "1      None      0 g       Saturated Fat  \n",
      "2      None     0 mg              Sodium  \n",
      "3      None     23 g  Total Carbohydrate  \n",
      "4      None      0 g           Total Fat  \n",
      "Price: 1.49\n",
      "Food You Feel Good About Large Eggs, whisked until foamy\n",
      "   dailyValuePercent dailyValueReference  \\\n",
      "0               0.71                None   \n",
      "1               0.10                None   \n",
      "2               0.08                None   \n",
      "3               0.03                None   \n",
      "4               0.00                None   \n",
      "5               0.07                None   \n",
      "\n",
      "                           itemQuantity precision quantity                type  \n",
      "0  {'value': 24, 'unitOfMeasure': 'OZ'}      None   215 mg         Cholesterol  \n",
      "1  {'value': 24, 'unitOfMeasure': 'OZ'}      None      6 g             Protein  \n",
      "2  {'value': 24, 'unitOfMeasure': 'OZ'}      None      1 g       Saturated Fat  \n",
      "3  {'value': 24, 'unitOfMeasure': 'OZ'}      None    65 mg              Sodium  \n",
      "4  {'value': 24, 'unitOfMeasure': 'OZ'}      None      1 g  Total Carbohydrate  \n",
      "5  {'value': 24, 'unitOfMeasure': 'OZ'}      None      4 g           Total Fat  \n",
      "Price: 1.39\n",
      "Food You Feel Good About Boneless Chicken Breasts\n",
      "Empty DataFrame\n",
      "Columns: []\n",
      "Index: []\n",
      "Price: 4.49\n",
      "Salt and pepper to taste\n",
      "Wegmans Pure Olive Oil\n",
      "   dailyValuePercent dailyValueReference  \\\n",
      "0               0.00                None   \n",
      "1               0.00                None   \n",
      "2               0.10                None   \n",
      "3               0.00                None   \n",
      "4               0.00                None   \n",
      "5               0.22                None   \n",
      "\n",
      "                           itemQuantity precision quantity                type  \n",
      "0  {'value': 16, 'unitOfMeasure': 'FO'}      None     0 mg         Cholesterol  \n",
      "1  {'value': 16, 'unitOfMeasure': 'FO'}      None    15 ml   MetricServingSize  \n",
      "2  {'value': 16, 'unitOfMeasure': 'FO'}      None      2 g       Saturated Fat  \n",
      "3  {'value': 16, 'unitOfMeasure': 'FO'}      None     0 mg              Sodium  \n",
      "4  {'value': 16, 'unitOfMeasure': 'FO'}      None      0 g  Total Carbohydrate  \n",
      "5  {'value': 16, 'unitOfMeasure': 'FO'}      None     14 g           Total Fat  \n",
      "Price: 3.49\n",
      "Italian Classics Seasoned Tomato Sauce (Dairy Dept), warmed\n",
      "   dailyValuePercent dailyValueReference  \\\n",
      "0               0.00                None   \n",
      "1               0.05                None   \n",
      "2               0.01                None   \n",
      "3               0.21                None   \n",
      "4               0.03                None   \n",
      "5               0.04                None   \n",
      "\n",
      "                           itemQuantity precision quantity                type  \n",
      "0  {'value': 24, 'unitOfMeasure': 'OZ'}      None     0 mg         Cholesterol  \n",
      "1  {'value': 24, 'unitOfMeasure': 'OZ'}      None      1 g       Dietary Fiber  \n",
      "2  {'value': 24, 'unitOfMeasure': 'OZ'}      None      0 g       Saturated Fat  \n",
      "3  {'value': 24, 'unitOfMeasure': 'OZ'}      None   500 mg              Sodium  \n",
      "4  {'value': 24, 'unitOfMeasure': 'OZ'}      None      8 g  Total Carbohydrate  \n",
      "5  {'value': 24, 'unitOfMeasure': 'OZ'}      None      2 g           Total Fat  \n",
      "Price: 5.99\n",
      "Wegmans Shredded Pizza Cheese (Pizza Dept)\n",
      "    dailyValuePercent dailyValueReference  \\\n",
      "0                0.15                None   \n",
      "1                0.08                None   \n",
      "2                0.00                None   \n",
      "3                0.00                None   \n",
      "4                0.00                None   \n",
      "5                0.20                None   \n",
      "6                0.08                None   \n",
      "7                0.00                None   \n",
      "8                0.00                None   \n",
      "9                0.11                None   \n",
      "10               0.00                None   \n",
      "11               0.04                None   \n",
      "12               0.00                None   \n",
      "\n",
      "                           itemQuantity precision quantity                type  \n",
      "0   {'value': 1, 'unitOfMeasure': 'LB'}      None  156 mcg             Calcium  \n",
      "1   {'value': 1, 'unitOfMeasure': 'LB'}      None    25 mg         Cholesterol  \n",
      "2   {'value': 1, 'unitOfMeasure': 'LB'}      None      0 g       Dietary Fiber  \n",
      "3   {'value': 1, 'unitOfMeasure': 'LB'}      None     0 mg                Iron  \n",
      "4   {'value': 1, 'unitOfMeasure': 'LB'}      None      6 g             Protein  \n",
      "5   {'value': 1, 'unitOfMeasure': 'LB'}      None      4 g       Saturated Fat  \n",
      "6   {'value': 1, 'unitOfMeasure': 'LB'}      None   190 mg              Sodium  \n",
      "7   {'value': 1, 'unitOfMeasure': 'LB'}      None      0 g              Sugars  \n",
      "8   {'value': 1, 'unitOfMeasure': 'LB'}      None      1 g  Total Carbohydrate  \n",
      "9   {'value': 1, 'unitOfMeasure': 'LB'}      None      7 g           Total Fat  \n",
      "10  {'value': 1, 'unitOfMeasure': 'LB'}      None      0 g           Trans Fat  \n",
      "11  {'value': 1, 'unitOfMeasure': 'LB'}      None   200 IU           Vitamin A  \n",
      "12  {'value': 1, 'unitOfMeasure': 'LB'}      None     0 mg           Vitamin C  \n",
      "Price: 4.99\n"
     ]
    }
   ],
   "source": [
    "ingredients=newid['ingredients']\n",
    "print('Name of the Dish: '+str(newid['name']))\n",
    "print('Wellness Ingredients: '+str(newid['wellnessKeys']))\n",
    "url='https://api.wegmans.io'\n",
    "print('Total ingredients required is '+str(len(ingredients)))\n",
    "print('Names of all the Ingredients')\n",
    "for i in range(len(ingredients)):\n",
    "  link=ingredients[i].get('_links')\n",
    "  print(ingredients[i]['name'])\n",
    "  if(link!=None):\n",
    "    #print(link[0].get('href'))  \n",
    "    prod_name=ingredients[i]['_links'][0]['href']\n",
    "    url_prod=url+prod_name+'&subscription-key='+apikey\n",
    "    response = requests.get(url_prod)\n",
    "    products = json.loads(response.content)\n",
    "    df=pd.DataFrame.from_dict(products['nutrients'])\n",
    "    print(df)\n",
    "    #print(products['_links'][2]['href'])\n",
    "    url_prices=url+products['_links'][2]['href']+'&subscription-key='+apikey\n",
    "    response = requests.get(url_prices)\n",
    "    prices = json.loads(response.content)\n",
    "    print('Price: '+str(prices['stores'][0]['price']))\n",
    "  \n",
    "\n"
   ]
  },
  {
   "cell_type": "code",
   "execution_count": 0,
   "metadata": {
    "colab": {
     "base_uri": "https://localhost:8080/",
     "height": 35
    },
    "colab_type": "code",
    "id": "WZEGUNxSoYG6",
    "outputId": "12ca40fc-1043-4c16-dafe-5d6ea345ad13"
   },
   "outputs": [
    {
     "name": "stdout",
     "output_type": "stream",
     "text": [
      "200\n"
     ]
    }
   ],
   "source": [
    "#Extract the store information for the nearest location\n",
    "\n",
    "response = requests.get(\"https://api.wegmans.io/stores/?api-version=2018-10-18&Subscription-Key=\")\n",
    "\n",
    "print(response.status_code)\n",
    "\n",
    "d = json.loads(response.text)\n",
    "d1=[]\n",
    "\n",
    "#change recipes to corresponding\n",
    "for x in d['stores']:\n",
    "    d1.append(x)\n",
    "#     print(x)\n",
    "\n",
    "d2=d['stores']"
   ]
  },
  {
   "cell_type": "code",
   "execution_count": 0,
   "metadata": {
    "colab": {},
    "colab_type": "code",
    "id": "1mIUMoO9oYk_"
   },
   "outputs": [],
   "source": [
    "links_of_stores = []\n",
    "latitudes = []\n",
    "longitudes = []\n",
    "shopname = []\n",
    "shoplocation = []\n",
    "\n",
    "\n",
    "for i in range(len(d2)):\n",
    "  links_of_stores.append(d2[i]['_links'])\n",
    "  latitudes.append(int(d2[i]['latitude']))\n",
    "  longitudes.append(int(d2[i]['longitude']))\n",
    "  shopname.append(d2[i]['name'])\n",
    "  shoplocation.append(d2[i]['number'])\n",
    "\n",
    "  \n",
    "href_of_all_stores = []\n",
    "for i in range(len(links_of_stores)):\n",
    "  href_of_all_stores.append(links_of_stores[i][0]['href'])\n",
    "  \n",
    "\n",
    "  "
   ]
  },
  {
   "cell_type": "code",
   "execution_count": 0,
   "metadata": {
    "colab": {},
    "colab_type": "code",
    "id": "xB6kLNL7oYn0"
   },
   "outputs": [],
   "source": [
    "#!pip install geopy\n",
    "\n",
    "from geopy.distance import geodesic\n",
    "import geopy.distance\n",
    "\n",
    "def find_shortest_store(lat, long, userlat, userlong): \n",
    "  # approximate radius of earth in km\n",
    "  mini = []\n",
    "  print(len(lat))\n",
    "  for i in range(len(lat)):\n",
    "    coords_1 = (lat[i], long[i])\n",
    "    coords_2 = (userlat, userlong)\n",
    "    mini.append(geodesic(coords_1, coords_2).miles)\n",
    "  return mini"
   ]
  },
  {
   "cell_type": "code",
   "execution_count": 0,
   "metadata": {
    "colab": {
     "base_uri": "https://localhost:8080/",
     "height": 52
    },
    "colab_type": "code",
    "id": "hzwmnFNyoYqB",
    "outputId": "96b38be6-3f7f-427e-af25-0b530b37f675"
   },
   "outputs": [
    {
     "name": "stdout",
     "output_type": "stream",
     "text": [
      "111\n"
     ]
    },
    {
     "data": {
      "text/plain": [
       "42.107275836852345"
      ]
     },
     "execution_count": 32,
     "metadata": {
      "tags": []
     },
     "output_type": "execute_result"
    }
   ],
   "source": [
    "response = requests.get('https://maps.googleapis.com/maps/api/geocode/json?address=Montrose+Avenue,+Buffalo,+NY &key=')\n",
    "\n",
    "resp_json_payload = response.json()\n",
    "\n",
    "userlat = (resp_json_payload['results'][0]['geometry']['location']['lat'])\n",
    "userlong = (resp_json_payload['results'][0]['geometry']['location']['lng'])\n",
    "\n",
    "#resp_json_payload\n",
    "\n",
    "shortest_path = find_shortest_store(latitudes, longitudes, userlat, userlong)\n",
    "\n",
    "a =  shortest_path.index(min(shortest_path))\n",
    "\n",
    "min(shortest_path)\n",
    "\n"
   ]
  },
  {
   "cell_type": "code",
   "execution_count": 0,
   "metadata": {
    "colab": {
     "base_uri": "https://localhost:8080/",
     "height": 52
    },
    "colab_type": "code",
    "id": "SXoR0QmxoYtA",
    "outputId": "55b510c5-a004-4914-fe4e-3d1ac545d449"
   },
   "outputs": [
    {
     "name": "stdout",
     "output_type": "stream",
     "text": [
      "NIAGARA FALLS BLVD. is the shortest shop near the customers house\n",
      "The url is {'href': '/stores/86?api-version=2018-10-18', 'rel': 'self', 'type': 'GET'}\n"
     ]
    }
   ],
   "source": [
    "print(shopname[a] + ' is the shortest shop near the customers house')\n",
    "\n",
    "\n",
    "\n",
    "print(\"The url is \" + str(links_of_stores[a][0]))"
   ]
  },
  {
   "cell_type": "code",
   "execution_count": 0,
   "metadata": {
    "colab": {},
    "colab_type": "code",
    "id": "ktYBB7c_o3SU"
   },
   "outputs": [],
   "source": []
  },
  {
   "cell_type": "code",
   "execution_count": 0,
   "metadata": {
    "colab": {},
    "colab_type": "code",
    "id": "UxDbT2tpo3UR"
   },
   "outputs": [],
   "source": []
  },
  {
   "cell_type": "code",
   "execution_count": 0,
   "metadata": {
    "colab": {},
    "colab_type": "code",
    "id": "Gk08s0TTo3ZB"
   },
   "outputs": [],
   "source": []
  },
  {
   "cell_type": "code",
   "execution_count": 0,
   "metadata": {
    "colab": {},
    "colab_type": "code",
    "id": "khFgdOlmo3eS"
   },
   "outputs": [],
   "source": []
  }
 ],
 "metadata": {
  "colab": {
   "name": "wegman.ipynb",
   "provenance": [],
   "version": "0.3.2"
  },
  "kernelspec": {
   "display_name": "Python 3",
   "language": "python",
   "name": "python3"
  },
  "language_info": {
   "codemirror_mode": {
    "name": "ipython",
    "version": 3
   },
   "file_extension": ".py",
   "mimetype": "text/x-python",
   "name": "python",
   "nbconvert_exporter": "python",
   "pygments_lexer": "ipython3",
   "version": "3.7.1"
  }
 },
 "nbformat": 4,
 "nbformat_minor": 1
}
